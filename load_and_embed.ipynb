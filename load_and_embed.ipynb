{
 "cells": [
  {
   "cell_type": "code",
   "execution_count": 1,
   "id": "198b1a5b",
   "metadata": {},
   "outputs": [
    {
     "name": "stderr",
     "output_type": "stream",
     "text": [
      "C:\\Users\\ADMIN\\AppData\\Local\\Temp\\ipykernel_18320\\3739705511.py:15: LangChainDeprecationWarning: The class `OllamaEmbeddings` was deprecated in LangChain 0.3.1 and will be removed in 1.0.0. An updated version of the class exists in the :class:`~langchain-ollama package and should be used instead. To use it run `pip install -U :class:`~langchain-ollama` and import as `from :class:`~langchain_ollama import OllamaEmbeddings``.\n",
      "  embeddings = OllamaEmbeddings(model=\"llama3.2:1b\")\n"
     ]
    },
    {
     "name": "stdout",
     "output_type": "stream",
     "text": [
      "PDF successfully embedded and stored in ChromaDB\n"
     ]
    }
   ],
   "source": [
    "from langchain_community.document_loaders import PyPDFLoader\n",
    "from langchain.text_splitter import RecursiveCharacterTextSplitter\n",
    "from langchain_community.embeddings import OllamaEmbeddings\n",
    "from langchain_chroma import Chroma\n",
    "\n",
    "# Load your PDF\n",
    "loader = PyPDFLoader(\"apollonew.pdf\") \n",
    "pages = loader.load()\n",
    "\n",
    "# Split into chunks\n",
    "splitter = RecursiveCharacterTextSplitter(chunk_size=500, chunk_overlap=100)\n",
    "docs = splitter.split_documents(pages)\n",
    "\n",
    "# Embedding model\n",
    "embeddings = OllamaEmbeddings(model=\"llama3.2:1b\")\n",
    "\n",
    "# Store in Chroma\n",
    "db = Chroma.from_documents(documents=docs, embedding=embeddings, persist_directory=\"./chroma_db_my\")\n",
    "print(\"PDF successfully embedded and stored in ChromaDB\")\n"
   ]
  },
  {
   "cell_type": "code",
   "execution_count": 2,
   "id": "902f874b",
   "metadata": {},
   "outputs": [
    {
     "name": "stdout",
     "output_type": "stream",
     "text": [
      "\n",
      "✅ Loaded 12 chunks from the PDF.\n",
      "\n",
      "--- Sample Chunk 1 ---\n",
      "Why Choose Apollo Healthcare? \n",
      "Established by Dr Prathap C Reddy in 1983, Apollo Hospitals is India’s largest integrated health care delivery system. From innovative life-saving treatments \n",
      "and diagnostic services, preventive health care to diagnostic and pharmacy services , Apollo Hospitals has tou\n",
      "\n",
      "--- Sample Chunk 2 ---\n",
      "The Apollo Hospitals at Bannerghatta is a 250 bedded hospital, located in the heart of \n",
      "the capital. The hospital is equipped with state-of-the-art technology making it a \n",
      "powerhouse of healthcare in Bangalore and is committed to invest in the latest medical \n",
      "technology on par with the latest worldw\n",
      "\n",
      "--- Sample Chunk 3 ---\n",
      "Some of the equipments and technology available at Apollo Hospitals, Bengaluru include: \n",
      " Thallium Laser-First in India \n",
      " Holmium Laser-First in South India \n",
      " Digital X-Ray-First in Karnataka \n",
      " 64 slice CT angiogram \n",
      " 3 Tesla MRI \n",
      " Low energy & High energy Linear Accelerators \n",
      " Navigation Sys\n"
     ]
    }
   ],
   "source": [
    "print(f\"\\n✅ Loaded {len(docs)} chunks from the PDF.\")\n",
    "for i, doc in enumerate(docs[:3]):\n",
    "    print(f\"\\n--- Sample Chunk {i+1} ---\\n{doc.page_content[:300]}\")"
   ]
  },
  {
   "cell_type": "code",
   "execution_count": null,
   "id": "aaa8f7eb",
   "metadata": {},
   "outputs": [],
   "source": []
  }
 ],
 "metadata": {
  "kernelspec": {
   "display_name": "mynewenv",
   "language": "python",
   "name": "python3"
  },
  "language_info": {
   "codemirror_mode": {
    "name": "ipython",
    "version": 3
   },
   "file_extension": ".py",
   "mimetype": "text/x-python",
   "name": "python",
   "nbconvert_exporter": "python",
   "pygments_lexer": "ipython3",
   "version": "3.10.0"
  }
 },
 "nbformat": 4,
 "nbformat_minor": 5
}
